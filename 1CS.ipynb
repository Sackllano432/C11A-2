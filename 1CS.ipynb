{
  "cells": [
    {
      "cell_type": "markdown",
      "metadata": {
        "id": "view-in-github",
        "colab_type": "text"
      },
      "source": [
        "<a href=\"https://colab.research.google.com/github/Sackllano432/C11A-2/blob/main/1CS.ipynb\" target=\"_parent\"><img src=\"https://colab.research.google.com/assets/colab-badge.svg\" alt=\"Open In Colab\"/></a>"
      ]
    },
    {
      "cell_type": "markdown",
      "id": "83e7ba6f",
      "metadata": {
        "id": "83e7ba6f"
      },
      "source": [
        "## Activities and Case Studies\n",
        "\n",
        "1. For all activities, you are allowed to collaborate with a partner.\n",
        "2. For case studies, you should work individually and are **not** allowed to collaborate.\n",
        "\n",
        "By filling out this notebook and submitting it, you acknowledge that you are aware of the above policies and are agreeing to comply with them."
      ]
    },
    {
      "cell_type": "markdown",
      "id": "582b244f",
      "metadata": {
        "id": "582b244f"
      },
      "source": [
        "# Case Study 1: Python and Data Fundamentals with Titanic Dataset\n",
        "\n",
        "## 🎯 Learning Objectives\n",
        "By the end of this assignment, you will be able to:\n",
        "- Load and explore datasets using pandas DataFrames\n",
        "- Handle missing data and perform basic data cleaning\n",
        "- Use boolean indexing to filter data\n",
        "- Apply groupby operations to analyze patterns\n",
        "- Create new features through feature engineering\n",
        "- Visualize data to gain insights\n",
        "\n",
        "## 📚 Prerequisites\n",
        "- Basic Python syntax (variables, functions, loops)\n",
        "- Understanding of Python data types (lists, dictionaries)\n",
        "- Familiarity with Jupyter notebooks\n",
        "\n",
        "## ⏱️ Estimated Time: 2-3 hours\n",
        "\n",
        "## 🚀 Getting Started\n",
        "In this case study, we'll explore one of the most famous datasets in machine learning: the Titanic passenger data. You'll practice essential data manipulation techniques that form the foundation of machine learning workflows. These skills - data cleaning, exploration, and feature engineering - typically take up 80% of a machine learning engineer's time!\n",
        "\n",
        "**Why Titanic?** This dataset is perfect for learning because it has:\n",
        "- A mix of numerical and categorical data\n",
        "- Real-world messiness (missing values)\n",
        "- Interesting patterns to discover\n",
        "- A compelling story behind the data\n",
        "\n",
        "Let's begin our journey into machine learning!"
      ]
    },
    {
      "cell_type": "code",
      "execution_count": 1,
      "id": "84de38eb",
      "metadata": {
        "id": "84de38eb"
      },
      "outputs": [],
      "source": [
        "# Import all necessary libraries for our analysis\n",
        "import pandas as pd\n",
        "import numpy as np\n",
        "import matplotlib.pyplot as plt\n",
        "import seaborn as sns\n",
        "\n",
        "# Set up plotting style for better-looking visualizations\n",
        "plt.style.use(\"ggplot\")\n",
        "sns.set_palette(\"husl\")"
      ]
    },
    {
      "cell_type": "markdown",
      "id": "60e52ba3",
      "metadata": {
        "id": "60e52ba3"
      },
      "source": [
        "## Understanding Data Structures in Python\n",
        "\n",
        "Before a Machine Learning engineer can start training models, they have to gather data from scattered sources and manipulate it into a shape that models can work with. Preprocessing messy real-life data is often one of the most time-consuming things an ML engineer has to do. Fortunately, there are a number of open-sourced, powerful tools out there for working with (potentially large amounts of) data for Machine Learning.\n",
        "\n",
        "Your core tools will generally be basic dictionaries, numpy arrays, and pandas. Each has their own strengths and weaknesses. Most of the time, however, you can use the simplest data structure that satisfies your needs:\n",
        "\n",
        "1. **Python Dictionaries/Lists** → Simple lookups, heterogeneous data, small datasets. We're generally going to be doing much more advanced, math-involved work than dictionaries can handle, but you shouldn't discount them; they're often the easiest and most performant option for simple lookups or situations where you're constantly adding and looking up items.\n",
        "2. **NumPy Arrays** → Numerical computations, homogeneous data, mathematical operations, and very structured data. Numpy is very fast at crunching matrices and performing linear algebra operations, and stores data in single- or multi-dimensional arrays (also known as tensors). However, it doesn't work as well on mixed/messy data (with many datatypes, missing data, etc.), and it's less of a swiss-army knife when it comes to complex operations.\n",
        "3. **Pandas DataFrames/Series** → Data manipulation, labeled data, mixed data types, file I/O, data analysis workflows. Pandas is the most capable of the listed tools when it comes to handling real-world data, and largely builds on numpy with additional complex functionality like joins, pivots, cuts, groups - all sorts of fun things you'll soon learn.\n",
        "\n",
        "There are many other tools you may find in the wild that are more powerful for specific/large tasks. One honorable mention that you won't see again in this course: [Polars](https://docs.pola.rs/), a very performant derivative of Pandas. I mention it here only so you know the name; Pandas might be the de-facto standard tool, but it's also single-threaded and has to hold your entire dataset in memory. If you run into performance issues with large datasets, you might want to explore Polars as an alternative.\n",
        "\n",
        "*Note: We'll focus primarily on pandas in this assignment since it's designed for the type of data analysis work you'll be doing in machine learning. The skills you learn here will largely transfer to whichever tool you select*"
      ]
    },
    {
      "cell_type": "markdown",
      "id": "53c9a65e",
      "metadata": {
        "id": "53c9a65e"
      },
      "source": [
        "## Question 1: Dataset Introduction and Basic Operations\n",
        "\n",
        "### Loading and Exploring the Titanic Dataset\n",
        "\n",
        "The Titanic dataset contains real passenger information from the tragic 1912 voyage. It provides an excellent learning opportunity with a rich mix of categorical and numerical variables, plus the realistic missing data challenges you'll encounter in real-world machine learning projects.\n",
        "\n",
        "Let's start by loading our data and getting familiar with its structure."
      ]
    },
    {
      "cell_type": "code",
      "execution_count": 2,
      "id": "ac5788c6",
      "metadata": {
        "colab": {
          "base_uri": "https://localhost:8080/"
        },
        "id": "ac5788c6",
        "outputId": "0516f9e9-5a11-483a-fb5e-7ebbab68d9bd"
      },
      "outputs": [
        {
          "output_type": "stream",
          "name": "stdout",
          "text": [
            "First 5 rows of the Titanic dataset:\n",
            "   pclass  survived                                             name     sex  \\\n",
            "0       1         1                    Allen, Miss. Elisabeth Walton  female   \n",
            "1       1         1                   Allison, Master. Hudson Trevor    male   \n",
            "2       1         0                     Allison, Miss. Helen Loraine  female   \n",
            "3       1         0             Allison, Mr. Hudson Joshua Creighton    male   \n",
            "4       1         0  Allison, Mrs. Hudson J C (Bessie Waldo Daniels)  female   \n",
            "\n",
            "     age  sibsp  parch  ticket      fare    cabin embarked boat   body  \\\n",
            "0  29.00      0      0   24160  211.3375       B5        S    2    NaN   \n",
            "1   0.92      1      2  113781  151.5500  C22 C26        S   11    NaN   \n",
            "2   2.00      1      2  113781  151.5500  C22 C26        S  NaN    NaN   \n",
            "3  30.00      1      2  113781  151.5500  C22 C26        S  NaN  135.0   \n",
            "4  25.00      1      2  113781  151.5500  C22 C26        S  NaN    NaN   \n",
            "\n",
            "                         home.dest  \n",
            "0                     St Louis, MO  \n",
            "1  Montreal, PQ / Chesterville, ON  \n",
            "2  Montreal, PQ / Chesterville, ON  \n",
            "3  Montreal, PQ / Chesterville, ON  \n",
            "4  Montreal, PQ / Chesterville, ON  \n",
            "\n",
            "================================================================================\n",
            "📖 DATA DICTIONARY - Understanding Our Columns:\n",
            "================================================================================\n",
            "\n",
            "- pclass: Passenger Class (1 = 1st/Upper, 2 = 2nd/Middle, 3 = 3rd/Lower)\n",
            "- survived: Survival (0 = No, 1 = Yes) - This is what ML models would predict!\n",
            "- name: Passenger name\n",
            "- sex: Gender (male/female)\n",
            "- age: Age in years\n",
            "- sibsp: Number of siblings/spouses aboard\n",
            "- parch: Number of parents/children aboard\n",
            "- ticket: Ticket number\n",
            "- fare: Passenger fare (price paid for ticket)\n",
            "- cabin: Cabin number\n",
            "- embarked: Port of embarkation (C = Cherbourg, Q = Queenstown, S = Southampton)\n",
            "- boat: Lifeboat number (if survived)\n",
            "- body: Body identification number (if died and body was recovered)\n",
            "- home.dest: Home/destination\n",
            "\n"
          ]
        }
      ],
      "source": [
        "# Load the Titanic dataset\n",
        "titanic = pd.read_csv(\"titanic.csv\")\n",
        "\n",
        "# Display the first few rows to understand our data structure\n",
        "print(\"First 5 rows of the Titanic dataset:\")\n",
        "print(titanic.head())\n",
        "\n",
        "print(\"\\n\" + \"=\"*80)\n",
        "print(\"📖 DATA DICTIONARY - Understanding Our Columns:\")\n",
        "print(\"=\"*80)\n",
        "print(\"\"\"\n",
        "- pclass: Passenger Class (1 = 1st/Upper, 2 = 2nd/Middle, 3 = 3rd/Lower)\n",
        "- survived: Survival (0 = No, 1 = Yes) - This is what ML models would predict!\n",
        "- name: Passenger name\n",
        "- sex: Gender (male/female)\n",
        "- age: Age in years\n",
        "- sibsp: Number of siblings/spouses aboard\n",
        "- parch: Number of parents/children aboard\n",
        "- ticket: Ticket number\n",
        "- fare: Passenger fare (price paid for ticket)\n",
        "- cabin: Cabin number\n",
        "- embarked: Port of embarkation (C = Cherbourg, Q = Queenstown, S = Southampton)\n",
        "- boat: Lifeboat number (if survived)\n",
        "- body: Body identification number (if died and body was recovered)\n",
        "- home.dest: Home/destination\n",
        "\"\"\")"
      ]
    },
    {
      "cell_type": "markdown",
      "id": "9add9c63",
      "metadata": {
        "id": "9add9c63"
      },
      "source": [
        "### Initial Data Exploration\n",
        "\n",
        "Let's explore the basic characteristics of our dataset. Understanding the shape, data types, and basic statistics is always the first step in any data analysis project."
      ]
    },
    {
      "cell_type": "code",
      "execution_count": 3,
      "id": "549371b5",
      "metadata": {
        "colab": {
          "base_uri": "https://localhost:8080/"
        },
        "id": "549371b5",
        "outputId": "00d75109-313c-4525-b890-2503e5292e61"
      },
      "outputs": [
        {
          "output_type": "stream",
          "name": "stdout",
          "text": [
            "Dataset shape (rows, columns): (1309, 14)\n",
            "\n",
            "Column names and data types:\n",
            "pclass         int64\n",
            "survived       int64\n",
            "name          object\n",
            "sex           object\n",
            "age          float64\n",
            "sibsp          int64\n",
            "parch          int64\n",
            "ticket        object\n",
            "fare         float64\n",
            "cabin         object\n",
            "embarked      object\n",
            "boat          object\n",
            "body         float64\n",
            "home.dest     object\n",
            "dtype: object\n"
          ]
        }
      ],
      "source": [
        "# Get basic information about the dataset\n",
        "print(\"Dataset shape (rows, columns):\", titanic.shape)\n",
        "print(\"\\nColumn names and data types:\")\n",
        "print(titanic.dtypes)"
      ]
    },
    {
      "cell_type": "code",
      "execution_count": 4,
      "id": "75f9f3c0",
      "metadata": {
        "colab": {
          "base_uri": "https://localhost:8080/"
        },
        "id": "75f9f3c0",
        "outputId": "d7d0ec3d-d863-4a94-ad29-d1bba1d4aacc"
      },
      "outputs": [
        {
          "output_type": "stream",
          "name": "stdout",
          "text": [
            "Detailed dataset information:\n",
            "<class 'pandas.core.frame.DataFrame'>\n",
            "RangeIndex: 1309 entries, 0 to 1308\n",
            "Data columns (total 14 columns):\n",
            " #   Column     Non-Null Count  Dtype  \n",
            "---  ------     --------------  -----  \n",
            " 0   pclass     1309 non-null   int64  \n",
            " 1   survived   1309 non-null   int64  \n",
            " 2   name       1309 non-null   object \n",
            " 3   sex        1309 non-null   object \n",
            " 4   age        1046 non-null   float64\n",
            " 5   sibsp      1309 non-null   int64  \n",
            " 6   parch      1309 non-null   int64  \n",
            " 7   ticket     1309 non-null   object \n",
            " 8   fare       1308 non-null   float64\n",
            " 9   cabin      295 non-null    object \n",
            " 10  embarked   1307 non-null   object \n",
            " 11  boat       486 non-null    object \n",
            " 12  body       121 non-null    float64\n",
            " 13  home.dest  745 non-null    object \n",
            "dtypes: float64(3), int64(4), object(7)\n",
            "memory usage: 143.3+ KB\n"
          ]
        }
      ],
      "source": [
        "# Get detailed information about the dataset\n",
        "print(\"Detailed dataset information:\")\n",
        "titanic.info()"
      ]
    },
    {
      "cell_type": "markdown",
      "id": "aa9c85f1",
      "metadata": {
        "id": "aa9c85f1"
      },
      "source": [
        "You might have spotted the \"RangeIndex\" in the output. Indices are a core and powerful part of the Pandas library, allowing for fast lookups and data alignment. A RangeIndex is a special case that isn't actually stored in memory. Just like the python `range(...)` function, it represents the range with just a start, stop, and step value, and just numbers the rows in your table.\n",
        "\n",
        "We won't go into much more detail on indices here, but know that they're very useful, especially when doing complicated things like SQL-like joins efficiently."
      ]
    },
    {
      "cell_type": "code",
      "execution_count": 5,
      "id": "ae033f97",
      "metadata": {
        "colab": {
          "base_uri": "https://localhost:8080/",
          "height": 314
        },
        "id": "ae033f97",
        "outputId": "173dd329-6a43-4a6d-ba5c-693d32961a4a"
      },
      "outputs": [
        {
          "output_type": "stream",
          "name": "stdout",
          "text": [
            "Descriptive statistics for numerical columns:\n"
          ]
        },
        {
          "output_type": "execute_result",
          "data": {
            "text/plain": [
              "            pclass     survived          age        sibsp        parch  \\\n",
              "count  1309.000000  1309.000000  1046.000000  1309.000000  1309.000000   \n",
              "mean      2.294882     0.381971    29.881138     0.498854     0.385027   \n",
              "std       0.837836     0.486055    14.413493     1.041658     0.865560   \n",
              "min       1.000000     0.000000     0.170000     0.000000     0.000000   \n",
              "25%       2.000000     0.000000    21.000000     0.000000     0.000000   \n",
              "50%       3.000000     0.000000    28.000000     0.000000     0.000000   \n",
              "75%       3.000000     1.000000    39.000000     1.000000     0.000000   \n",
              "max       3.000000     1.000000    80.000000     8.000000     9.000000   \n",
              "\n",
              "              fare        body  \n",
              "count  1308.000000  121.000000  \n",
              "mean     33.295479  160.809917  \n",
              "std      51.758668   97.696922  \n",
              "min       0.000000    1.000000  \n",
              "25%       7.895800   72.000000  \n",
              "50%      14.454200  155.000000  \n",
              "75%      31.275000  256.000000  \n",
              "max     512.329200  328.000000  "
            ],
            "text/html": [
              "\n",
              "  <div id=\"df-c39f8fe5-f0ab-4187-bdda-013df555dd73\" class=\"colab-df-container\">\n",
              "    <div>\n",
              "<style scoped>\n",
              "    .dataframe tbody tr th:only-of-type {\n",
              "        vertical-align: middle;\n",
              "    }\n",
              "\n",
              "    .dataframe tbody tr th {\n",
              "        vertical-align: top;\n",
              "    }\n",
              "\n",
              "    .dataframe thead th {\n",
              "        text-align: right;\n",
              "    }\n",
              "</style>\n",
              "<table border=\"1\" class=\"dataframe\">\n",
              "  <thead>\n",
              "    <tr style=\"text-align: right;\">\n",
              "      <th></th>\n",
              "      <th>pclass</th>\n",
              "      <th>survived</th>\n",
              "      <th>age</th>\n",
              "      <th>sibsp</th>\n",
              "      <th>parch</th>\n",
              "      <th>fare</th>\n",
              "      <th>body</th>\n",
              "    </tr>\n",
              "  </thead>\n",
              "  <tbody>\n",
              "    <tr>\n",
              "      <th>count</th>\n",
              "      <td>1309.000000</td>\n",
              "      <td>1309.000000</td>\n",
              "      <td>1046.000000</td>\n",
              "      <td>1309.000000</td>\n",
              "      <td>1309.000000</td>\n",
              "      <td>1308.000000</td>\n",
              "      <td>121.000000</td>\n",
              "    </tr>\n",
              "    <tr>\n",
              "      <th>mean</th>\n",
              "      <td>2.294882</td>\n",
              "      <td>0.381971</td>\n",
              "      <td>29.881138</td>\n",
              "      <td>0.498854</td>\n",
              "      <td>0.385027</td>\n",
              "      <td>33.295479</td>\n",
              "      <td>160.809917</td>\n",
              "    </tr>\n",
              "    <tr>\n",
              "      <th>std</th>\n",
              "      <td>0.837836</td>\n",
              "      <td>0.486055</td>\n",
              "      <td>14.413493</td>\n",
              "      <td>1.041658</td>\n",
              "      <td>0.865560</td>\n",
              "      <td>51.758668</td>\n",
              "      <td>97.696922</td>\n",
              "    </tr>\n",
              "    <tr>\n",
              "      <th>min</th>\n",
              "      <td>1.000000</td>\n",
              "      <td>0.000000</td>\n",
              "      <td>0.170000</td>\n",
              "      <td>0.000000</td>\n",
              "      <td>0.000000</td>\n",
              "      <td>0.000000</td>\n",
              "      <td>1.000000</td>\n",
              "    </tr>\n",
              "    <tr>\n",
              "      <th>25%</th>\n",
              "      <td>2.000000</td>\n",
              "      <td>0.000000</td>\n",
              "      <td>21.000000</td>\n",
              "      <td>0.000000</td>\n",
              "      <td>0.000000</td>\n",
              "      <td>7.895800</td>\n",
              "      <td>72.000000</td>\n",
              "    </tr>\n",
              "    <tr>\n",
              "      <th>50%</th>\n",
              "      <td>3.000000</td>\n",
              "      <td>0.000000</td>\n",
              "      <td>28.000000</td>\n",
              "      <td>0.000000</td>\n",
              "      <td>0.000000</td>\n",
              "      <td>14.454200</td>\n",
              "      <td>155.000000</td>\n",
              "    </tr>\n",
              "    <tr>\n",
              "      <th>75%</th>\n",
              "      <td>3.000000</td>\n",
              "      <td>1.000000</td>\n",
              "      <td>39.000000</td>\n",
              "      <td>1.000000</td>\n",
              "      <td>0.000000</td>\n",
              "      <td>31.275000</td>\n",
              "      <td>256.000000</td>\n",
              "    </tr>\n",
              "    <tr>\n",
              "      <th>max</th>\n",
              "      <td>3.000000</td>\n",
              "      <td>1.000000</td>\n",
              "      <td>80.000000</td>\n",
              "      <td>8.000000</td>\n",
              "      <td>9.000000</td>\n",
              "      <td>512.329200</td>\n",
              "      <td>328.000000</td>\n",
              "    </tr>\n",
              "  </tbody>\n",
              "</table>\n",
              "</div>\n",
              "    <div class=\"colab-df-buttons\">\n",
              "\n",
              "  <div class=\"colab-df-container\">\n",
              "    <button class=\"colab-df-convert\" onclick=\"convertToInteractive('df-c39f8fe5-f0ab-4187-bdda-013df555dd73')\"\n",
              "            title=\"Convert this dataframe to an interactive table.\"\n",
              "            style=\"display:none;\">\n",
              "\n",
              "  <svg xmlns=\"http://www.w3.org/2000/svg\" height=\"24px\" viewBox=\"0 -960 960 960\">\n",
              "    <path d=\"M120-120v-720h720v720H120Zm60-500h600v-160H180v160Zm220 220h160v-160H400v160Zm0 220h160v-160H400v160ZM180-400h160v-160H180v160Zm440 0h160v-160H620v160ZM180-180h160v-160H180v160Zm440 0h160v-160H620v160Z\"/>\n",
              "  </svg>\n",
              "    </button>\n",
              "\n",
              "  <style>\n",
              "    .colab-df-container {\n",
              "      display:flex;\n",
              "      gap: 12px;\n",
              "    }\n",
              "\n",
              "    .colab-df-convert {\n",
              "      background-color: #E8F0FE;\n",
              "      border: none;\n",
              "      border-radius: 50%;\n",
              "      cursor: pointer;\n",
              "      display: none;\n",
              "      fill: #1967D2;\n",
              "      height: 32px;\n",
              "      padding: 0 0 0 0;\n",
              "      width: 32px;\n",
              "    }\n",
              "\n",
              "    .colab-df-convert:hover {\n",
              "      background-color: #E2EBFA;\n",
              "      box-shadow: 0px 1px 2px rgba(60, 64, 67, 0.3), 0px 1px 3px 1px rgba(60, 64, 67, 0.15);\n",
              "      fill: #174EA6;\n",
              "    }\n",
              "\n",
              "    .colab-df-buttons div {\n",
              "      margin-bottom: 4px;\n",
              "    }\n",
              "\n",
              "    [theme=dark] .colab-df-convert {\n",
              "      background-color: #3B4455;\n",
              "      fill: #D2E3FC;\n",
              "    }\n",
              "\n",
              "    [theme=dark] .colab-df-convert:hover {\n",
              "      background-color: #434B5C;\n",
              "      box-shadow: 0px 1px 3px 1px rgba(0, 0, 0, 0.15);\n",
              "      filter: drop-shadow(0px 1px 2px rgba(0, 0, 0, 0.3));\n",
              "      fill: #FFFFFF;\n",
              "    }\n",
              "  </style>\n",
              "\n",
              "    <script>\n",
              "      const buttonEl =\n",
              "        document.querySelector('#df-c39f8fe5-f0ab-4187-bdda-013df555dd73 button.colab-df-convert');\n",
              "      buttonEl.style.display =\n",
              "        google.colab.kernel.accessAllowed ? 'block' : 'none';\n",
              "\n",
              "      async function convertToInteractive(key) {\n",
              "        const element = document.querySelector('#df-c39f8fe5-f0ab-4187-bdda-013df555dd73');\n",
              "        const dataTable =\n",
              "          await google.colab.kernel.invokeFunction('convertToInteractive',\n",
              "                                                    [key], {});\n",
              "        if (!dataTable) return;\n",
              "\n",
              "        const docLinkHtml = 'Like what you see? Visit the ' +\n",
              "          '<a target=\"_blank\" href=https://colab.research.google.com/notebooks/data_table.ipynb>data table notebook</a>'\n",
              "          + ' to learn more about interactive tables.';\n",
              "        element.innerHTML = '';\n",
              "        dataTable['output_type'] = 'display_data';\n",
              "        await google.colab.output.renderOutput(dataTable, element);\n",
              "        const docLink = document.createElement('div');\n",
              "        docLink.innerHTML = docLinkHtml;\n",
              "        element.appendChild(docLink);\n",
              "      }\n",
              "    </script>\n",
              "  </div>\n",
              "\n",
              "\n",
              "    <div id=\"df-b7ce6a6d-c9fe-4f5a-8b19-0b13ade483d4\">\n",
              "      <button class=\"colab-df-quickchart\" onclick=\"quickchart('df-b7ce6a6d-c9fe-4f5a-8b19-0b13ade483d4')\"\n",
              "                title=\"Suggest charts\"\n",
              "                style=\"display:none;\">\n",
              "\n",
              "<svg xmlns=\"http://www.w3.org/2000/svg\" height=\"24px\"viewBox=\"0 0 24 24\"\n",
              "     width=\"24px\">\n",
              "    <g>\n",
              "        <path d=\"M19 3H5c-1.1 0-2 .9-2 2v14c0 1.1.9 2 2 2h14c1.1 0 2-.9 2-2V5c0-1.1-.9-2-2-2zM9 17H7v-7h2v7zm4 0h-2V7h2v10zm4 0h-2v-4h2v4z\"/>\n",
              "    </g>\n",
              "</svg>\n",
              "      </button>\n",
              "\n",
              "<style>\n",
              "  .colab-df-quickchart {\n",
              "      --bg-color: #E8F0FE;\n",
              "      --fill-color: #1967D2;\n",
              "      --hover-bg-color: #E2EBFA;\n",
              "      --hover-fill-color: #174EA6;\n",
              "      --disabled-fill-color: #AAA;\n",
              "      --disabled-bg-color: #DDD;\n",
              "  }\n",
              "\n",
              "  [theme=dark] .colab-df-quickchart {\n",
              "      --bg-color: #3B4455;\n",
              "      --fill-color: #D2E3FC;\n",
              "      --hover-bg-color: #434B5C;\n",
              "      --hover-fill-color: #FFFFFF;\n",
              "      --disabled-bg-color: #3B4455;\n",
              "      --disabled-fill-color: #666;\n",
              "  }\n",
              "\n",
              "  .colab-df-quickchart {\n",
              "    background-color: var(--bg-color);\n",
              "    border: none;\n",
              "    border-radius: 50%;\n",
              "    cursor: pointer;\n",
              "    display: none;\n",
              "    fill: var(--fill-color);\n",
              "    height: 32px;\n",
              "    padding: 0;\n",
              "    width: 32px;\n",
              "  }\n",
              "\n",
              "  .colab-df-quickchart:hover {\n",
              "    background-color: var(--hover-bg-color);\n",
              "    box-shadow: 0 1px 2px rgba(60, 64, 67, 0.3), 0 1px 3px 1px rgba(60, 64, 67, 0.15);\n",
              "    fill: var(--button-hover-fill-color);\n",
              "  }\n",
              "\n",
              "  .colab-df-quickchart-complete:disabled,\n",
              "  .colab-df-quickchart-complete:disabled:hover {\n",
              "    background-color: var(--disabled-bg-color);\n",
              "    fill: var(--disabled-fill-color);\n",
              "    box-shadow: none;\n",
              "  }\n",
              "\n",
              "  .colab-df-spinner {\n",
              "    border: 2px solid var(--fill-color);\n",
              "    border-color: transparent;\n",
              "    border-bottom-color: var(--fill-color);\n",
              "    animation:\n",
              "      spin 1s steps(1) infinite;\n",
              "  }\n",
              "\n",
              "  @keyframes spin {\n",
              "    0% {\n",
              "      border-color: transparent;\n",
              "      border-bottom-color: var(--fill-color);\n",
              "      border-left-color: var(--fill-color);\n",
              "    }\n",
              "    20% {\n",
              "      border-color: transparent;\n",
              "      border-left-color: var(--fill-color);\n",
              "      border-top-color: var(--fill-color);\n",
              "    }\n",
              "    30% {\n",
              "      border-color: transparent;\n",
              "      border-left-color: var(--fill-color);\n",
              "      border-top-color: var(--fill-color);\n",
              "      border-right-color: var(--fill-color);\n",
              "    }\n",
              "    40% {\n",
              "      border-color: transparent;\n",
              "      border-right-color: var(--fill-color);\n",
              "      border-top-color: var(--fill-color);\n",
              "    }\n",
              "    60% {\n",
              "      border-color: transparent;\n",
              "      border-right-color: var(--fill-color);\n",
              "    }\n",
              "    80% {\n",
              "      border-color: transparent;\n",
              "      border-right-color: var(--fill-color);\n",
              "      border-bottom-color: var(--fill-color);\n",
              "    }\n",
              "    90% {\n",
              "      border-color: transparent;\n",
              "      border-bottom-color: var(--fill-color);\n",
              "    }\n",
              "  }\n",
              "</style>\n",
              "\n",
              "      <script>\n",
              "        async function quickchart(key) {\n",
              "          const quickchartButtonEl =\n",
              "            document.querySelector('#' + key + ' button');\n",
              "          quickchartButtonEl.disabled = true;  // To prevent multiple clicks.\n",
              "          quickchartButtonEl.classList.add('colab-df-spinner');\n",
              "          try {\n",
              "            const charts = await google.colab.kernel.invokeFunction(\n",
              "                'suggestCharts', [key], {});\n",
              "          } catch (error) {\n",
              "            console.error('Error during call to suggestCharts:', error);\n",
              "          }\n",
              "          quickchartButtonEl.classList.remove('colab-df-spinner');\n",
              "          quickchartButtonEl.classList.add('colab-df-quickchart-complete');\n",
              "        }\n",
              "        (() => {\n",
              "          let quickchartButtonEl =\n",
              "            document.querySelector('#df-b7ce6a6d-c9fe-4f5a-8b19-0b13ade483d4 button');\n",
              "          quickchartButtonEl.style.display =\n",
              "            google.colab.kernel.accessAllowed ? 'block' : 'none';\n",
              "        })();\n",
              "      </script>\n",
              "    </div>\n",
              "\n",
              "    </div>\n",
              "  </div>\n"
            ],
            "application/vnd.google.colaboratory.intrinsic+json": {
              "type": "dataframe",
              "summary": "{\n  \"name\": \"titanic\",\n  \"rows\": 8,\n  \"fields\": [\n    {\n      \"column\": \"pclass\",\n      \"properties\": {\n        \"dtype\": \"number\",\n        \"std\": 462.03788291201505,\n        \"min\": 0.837836018970131,\n        \"max\": 1309.0,\n        \"num_unique_values\": 6,\n        \"samples\": [\n          1309.0,\n          2.294881588999236,\n          3.0\n        ],\n        \"semantic_type\": \"\",\n        \"description\": \"\"\n      }\n    },\n    {\n      \"column\": \"survived\",\n      \"properties\": {\n        \"dtype\": \"number\",\n        \"std\": 462.6567174482674,\n        \"min\": 0.0,\n        \"max\": 1309.0,\n        \"num_unique_values\": 5,\n        \"samples\": [\n          0.3819709702062643,\n          1.0,\n          0.48605517086648004\n        ],\n        \"semantic_type\": \"\",\n        \"description\": \"\"\n      }\n    },\n    {\n      \"column\": \"age\",\n      \"properties\": {\n        \"dtype\": \"number\",\n        \"std\": 359.84044215622254,\n        \"min\": 0.17,\n        \"max\": 1046.0,\n        \"num_unique_values\": 8,\n        \"samples\": [\n          29.881137667304014,\n          28.0,\n          1046.0\n        ],\n        \"semantic_type\": \"\",\n        \"description\": \"\"\n      }\n    },\n    {\n      \"column\": \"sibsp\",\n      \"properties\": {\n        \"dtype\": \"number\",\n        \"std\": 462.27680922007715,\n        \"min\": 0.0,\n        \"max\": 1309.0,\n        \"num_unique_values\": 6,\n        \"samples\": [\n          1309.0,\n          0.4988540870893812,\n          8.0\n        ],\n        \"semantic_type\": \"\",\n        \"description\": \"\"\n      }\n    },\n    {\n      \"column\": \"parch\",\n      \"properties\": {\n        \"dtype\": \"number\",\n        \"std\": 462.29399018424664,\n        \"min\": 0.0,\n        \"max\": 1309.0,\n        \"num_unique_values\": 5,\n        \"samples\": [\n          0.3850267379679144,\n          9.0,\n          0.8655602753495126\n        ],\n        \"semantic_type\": \"\",\n        \"description\": \"\"\n      }\n    },\n    {\n      \"column\": \"fare\",\n      \"properties\": {\n        \"dtype\": \"number\",\n        \"std\": 462.70446257758823,\n        \"min\": 0.0,\n        \"max\": 1308.0,\n        \"num_unique_values\": 8,\n        \"samples\": [\n          33.29547928134557,\n          14.4542,\n          1308.0\n        ],\n        \"semantic_type\": \"\",\n        \"description\": \"\"\n      }\n    },\n    {\n      \"column\": \"body\",\n      \"properties\": {\n        \"dtype\": \"number\",\n        \"std\": 103.45078164428638,\n        \"min\": 1.0,\n        \"max\": 328.0,\n        \"num_unique_values\": 8,\n        \"samples\": [\n          160.8099173553719,\n          155.0,\n          121.0\n        ],\n        \"semantic_type\": \"\",\n        \"description\": \"\"\n      }\n    }\n  ]\n}"
            }
          },
          "metadata": {},
          "execution_count": 5
        }
      ],
      "source": [
        "# Get descriptive statistics for numerical columns\n",
        "print(\"Descriptive statistics for numerical columns:\")\n",
        "titanic.describe()"
      ]
    },
    {
      "cell_type": "markdown",
      "id": "f5cdbd0d",
      "metadata": {
        "id": "f5cdbd0d"
      },
      "source": [
        "### Your Turn: Extracting Information from Data Exploration\n",
        "\n",
        "Now it's your turn to extract specific information from the dataset. Look at the output from `.describe()` above to answer this question."
      ]
    },
    {
      "cell_type": "code",
      "execution_count": 8,
      "id": "f62e0c10",
      "metadata": {
        "colab": {
          "base_uri": "https://localhost:8080/"
        },
        "id": "f62e0c10",
        "outputId": "08631123-5455-4b51-fea3-4022b3bf8efb"
      },
      "outputs": [
        {
          "output_type": "stream",
          "name": "stdout",
          "text": [
            "Mean age of passengers: 29.88\n"
          ]
        }
      ],
      "source": [
        "# Based on the .describe() output above, what is the mean age of passengers?\n",
        "# Store this value in the variable age_description (as a float, rounded to 2 decimal places)\n",
        "\n",
        "# YOUR CODE HERE\n",
        "# raise NotImplementedError()\n",
        "age_description = 29.88\n",
        "\n",
        "print(f\"Mean age of passengers: {age_description}\")"
      ]
    },
    {
      "cell_type": "code",
      "execution_count": 9,
      "id": "c343a771",
      "metadata": {
        "id": "c343a771"
      },
      "outputs": [],
      "source": [
        "# Test that age_description contains the correct mean age\n",
        "import math\n",
        "expected_mean_age = titanic[\"age\"].mean()\n",
        "assert isinstance(age_description, float), \"age_description should be a float\"\n",
        "assert math.isclose(age_description, expected_mean_age, abs_tol=0.01), f\"Expected {expected_mean_age:.2f}, got {age_description}\""
      ]
    },
    {
      "cell_type": "markdown",
      "id": "01d64c7f",
      "metadata": {
        "id": "01d64c7f"
      },
      "source": [
        "### Switching to Numpy\n",
        "\n",
        "Did we mention Numpy and Pandas have a lot in common? You can easily convert between the two using built-in functions.\n",
        "\n",
        "Specifically, the Pandas `Series` object represents a single column of data along with some metadata, an index, and a datatype. It's basically a numpy array with some extra spice on top. You can convert a Pandas Series to a NumPy array using the `.values` attribute or the `.to_numpy()` method. Conversely, you can create a Pandas Series from a NumPy array by passing it to the `pd.Series()` constructor."
      ]
    },
    {
      "cell_type": "code",
      "execution_count": 10,
      "id": "4d7c5306",
      "metadata": {
        "colab": {
          "base_uri": "https://localhost:8080/"
        },
        "id": "4d7c5306",
        "outputId": "f7c1ec59-3fbf-4b01-d836-e27c47f8689c"
      },
      "outputs": [
        {
          "output_type": "stream",
          "name": "stdout",
          "text": [
            "Type of example_series: <class 'pandas.core.series.Series'>\n",
            "First 3 values:\n",
            "0     Allen, Miss. Elisabeth Walton\n",
            "1    Allison, Master. Hudson Trevor\n",
            "2      Allison, Miss. Helen Loraine\n",
            "Name: name, dtype: object\n"
          ]
        }
      ],
      "source": [
        "# Example: Create a Series by selecting a single column\n",
        "example_series = titanic[\"name\"]  # Using a different column for the example\n",
        "print(\"Type of example_series:\", type(example_series))\n",
        "print(\"First 3 values:\")\n",
        "print(example_series.head(3))"
      ]
    },
    {
      "cell_type": "code",
      "execution_count": 11,
      "id": "7878b821",
      "metadata": {
        "colab": {
          "base_uri": "https://localhost:8080/"
        },
        "id": "7878b821",
        "outputId": "1353f328-6bc8-43be-cc9e-019b0484a7b5"
      },
      "outputs": [
        {
          "output_type": "stream",
          "name": "stdout",
          "text": [
            "Type of example_array: <class 'numpy.ndarray'>\n",
            "First 5 values: [211.3375 151.55   151.55   151.55   151.55  ]\n",
            "Shape: (1309,)\n"
          ]
        }
      ],
      "source": [
        "# Example: Convert fare column to a NumPy array\n",
        "example_array = titanic[\"fare\"].to_numpy()  # Using a different column for the example\n",
        "print(\"Type of example_array:\", type(example_array))\n",
        "print(\"First 5 values:\", example_array[:5])\n",
        "print(\"Shape:\", example_array.shape)"
      ]
    },
    {
      "cell_type": "markdown",
      "id": "e6e1f0ec",
      "metadata": {
        "id": "e6e1f0ec"
      },
      "source": [
        "### Your Turn: Creating Different Data Structures\n",
        "\n",
        "Practice creating Series and NumPy arrays from our DataFrame columns."
      ]
    },
    {
      "cell_type": "code",
      "execution_count": 12,
      "id": "4725fa2c",
      "metadata": {
        "colab": {
          "base_uri": "https://localhost:8080/"
        },
        "id": "4725fa2c",
        "outputId": "89662364-58f1-41bb-f893-313956558b15"
      },
      "outputs": [
        {
          "output_type": "stream",
          "name": "stdout",
          "text": [
            "Type of sex_series: <class 'pandas.core.series.Series'>\n",
            "First 3 values:\n",
            "0    female\n",
            "1      male\n",
            "2    female\n",
            "Name: sex, dtype: object\n",
            "Type of age_array: <class 'numpy.ndarray'>\n",
            "First 5 values: [29.    0.92  2.   30.   25.  ]\n",
            "Shape: (1309,)\n"
          ]
        }
      ],
      "source": [
        "# Access a Series from the \"sex\" column and store it in sex_series\n",
        "# Create a NumPy array from the \"age\" column and store it in age_array\n",
        "\n",
        "# YOUR CODE HERE\n",
        "#raise NotImplementedError()\n",
        "\n",
        "# sex series\n",
        "sex_series = titanic[\"sex\"]\n",
        "print(\"Type of sex_series:\", type(sex_series))\n",
        "print(\"First 3 values:\")\n",
        "print(sex_series.head(3))\n",
        "\n",
        "# age array\n",
        "age_array = titanic[\"age\"].to_numpy()\n",
        "print(\"Type of age_array:\", type(age_array))\n",
        "print(\"First 5 values:\", age_array[:5])\n",
        "print(\"Shape:\", age_array.shape)"
      ]
    },
    {
      "cell_type": "code",
      "execution_count": 13,
      "id": "31c0c9f9",
      "metadata": {
        "id": "31c0c9f9"
      },
      "outputs": [],
      "source": [
        "# Test that the variables have correct types\n",
        "assert isinstance(sex_series, pd.Series), \"sex_series should be a pandas Series\"\n",
        "assert isinstance(age_array, np.ndarray), \"age_array should be a numpy ndarray\""
      ]
    },
    {
      "cell_type": "markdown",
      "id": "1e1db6b1",
      "metadata": {
        "id": "1e1db6b1"
      },
      "source": [
        "### Data Cleaning and Missing Values\n",
        "\n",
        "Real datasets are messy! One frequent problem is missing data, where some values are not recorded. In pandas, these are represented as Na (Not Available). This is the equivalent to None in normal Python and NaN in numpy.\n",
        "\n",
        "Let's identify where we have missing data and make informed decisions about how to handle it.\n",
        "\n",
        "Also notice a common trick here: isna() returns a boolean for each item (called a boolean mask) indicating whether that item is Na or not. We can `sum` these booleans to count the number of `True`s because `True` is equivalent to 1 and `False` is equivalent to 0."
      ]
    },
    {
      "cell_type": "code",
      "execution_count": 14,
      "id": "7f7618d2",
      "metadata": {
        "colab": {
          "base_uri": "https://localhost:8080/"
        },
        "id": "7f7618d2",
        "outputId": "2106e4b4-d758-4c97-b821-aa4d86fa4d62"
      },
      "outputs": [
        {
          "output_type": "stream",
          "name": "stdout",
          "text": [
            "Missing values by column:\n",
            "pclass          0\n",
            "survived        0\n",
            "name            0\n",
            "sex             0\n",
            "age           263\n",
            "sibsp           0\n",
            "parch           0\n",
            "ticket          0\n",
            "fare            1\n",
            "cabin        1014\n",
            "embarked        2\n",
            "boat          823\n",
            "body         1188\n",
            "home.dest     564\n",
            "dtype: int64\n"
          ]
        }
      ],
      "source": [
        "# Check for missing values across all columns\n",
        "missing_counts = titanic.isna().sum()\n",
        "print(\"Missing values by column:\")\n",
        "print(missing_counts)"
      ]
    },
    {
      "cell_type": "markdown",
      "id": "521ed3b5",
      "metadata": {
        "id": "521ed3b5"
      },
      "source": [
        "### Making Data Cleaning Decisions\n",
        "\n",
        "Real-world data is messy! Let's clean our dataset step by step.\n",
        "\n",
        "**🔍 What we found:**\n",
        "- `age` has 263 missing values (20% of passengers!)\n",
        "- `cabin` has 1014 missing values (77% missing - too many to be useful)\n",
        "- `fare` has 1 missing value\n",
        "- `embarked` has 2 missing values\n",
        "\n",
        "**🎯 Our cleaning strategy:**\n",
        "1. **Remove incomplete records**: Drop rows missing age, fare, OR embarked (we need all for analysis)\n",
        "2. **Select relevant columns**: Keep only the columns useful for our analysis\n",
        "\n",
        "**⚠️ Important ML Context:** In machine learning, handling missing data is crucial. Today we're using the simplest approach (dropping rows), but in future assignments you'll learn about *imputation* - inferring missing values from patterns in the data.\n",
        "\n",
        "**Your task:**\n",
        "1. Drop rows where `age`, `fare`, or `embarked` is missing (NA/NaN)\n",
        "2. Then select only the columns in `subset_cols`\n",
        "\n",
        "💡 **Hints:**\n",
        "- Use `dropna(subset=['col1', 'col2', 'col3'])` to drop rows with NA in specific columns\n",
        "- Use `df[column_list]` to select specific columns\n",
        "- You can chain operations: `df.operation1().operation2()`"
      ]
    },
    {
      "cell_type": "code",
      "execution_count": 15,
      "id": "3a17e2b0",
      "metadata": {
        "colab": {
          "base_uri": "https://localhost:8080/"
        },
        "id": "3a17e2b0",
        "outputId": "009b7e40-4552-4a05-d19a-89283b904569"
      },
      "outputs": [
        {
          "output_type": "stream",
          "name": "stdout",
          "text": [
            "Rows after cleaning: 1043\n",
            "Columns: ['survived', 'pclass', 'sex', 'age', 'sibsp', 'parch', 'fare', 'embarked']\n"
          ]
        }
      ],
      "source": [
        "# Question: Data Cleaning with Column Selection\n",
        "\n",
        "# Given the titanic DataFrame, drop all rows with missing values in age, fare, or embarked,\n",
        "# then select only the columns listed in subset_cols and assign the result to titanic_clean.\n",
        "\n",
        "# Provided variable:\n",
        "subset_cols = [\"survived\", \"pclass\", \"sex\", \"age\", \"sibsp\", \"parch\", \"fare\", \"embarked\"]\n",
        "titanic_clean = pd.DataFrame()\n",
        "\n",
        "# YOUR CODE HERE\n",
        "# raise NotImplementedError()\n",
        "if \"age\" in titanic.columns and \"fare\" in titanic.columns and \"embarked\" in titanic.columns:\n",
        "    titanic_clean = titanic.dropna(subset=[\"age\", \"fare\", \"embarked\"])[subset_cols]\n",
        "\n",
        "print(f\"Rows after cleaning: {len(titanic_clean)}\")\n",
        "print(\"Columns:\", titanic_clean.columns.tolist())"
      ]
    },
    {
      "cell_type": "code",
      "execution_count": 16,
      "id": "d15f004f",
      "metadata": {
        "id": "d15f004f"
      },
      "outputs": [],
      "source": [
        "# Test that data cleaning was done correctly\n",
        "assert isinstance(titanic_clean, pd.DataFrame), \"titanic_clean should be a DataFrame\"\n",
        "assert len(titanic_clean) > 1000, f\"Expected more than 1000 rows after cleaning, got {len(titanic_clean)}\"\n",
        "assert len(titanic_clean) < 1050, f\"Expected less than 1050 rows after cleaning, got {len(titanic_clean)}\"\n",
        "\n",
        "# Check that required columns are present\n",
        "required_cols = [\"survived\", \"pclass\", \"sex\", \"age\", \"fare\"]\n",
        "for col in required_cols:\n",
        "    assert col in titanic_clean.columns, f\"Column '{col}' should be in titanic_clean\"\n",
        "\n",
        "# Check no missing values in key columns\n",
        "assert titanic_clean[\"age\"].isna().sum() == 0, \"Age column should have no missing values\"\n",
        "assert titanic_clean[\"fare\"].isna().sum() == 0, \"Fare column should have no missing values\""
      ]
    },
    {
      "cell_type": "markdown",
      "id": "23009b04",
      "metadata": {
        "id": "23009b04"
      },
      "source": [
        "## 🛠️ Quick Debugging Tips\n",
        "Before we continue, here are essential debugging techniques for pandas:\n",
        "\n",
        "```python\n",
        "# Check your dataframe's shape (rows, columns)\n",
        "print(df.shape)\n",
        "\n",
        "# See first few rows\n",
        "print(df.head())\n",
        "\n",
        "# Check data types and missing values\n",
        "print(df.info())\n",
        "\n",
        "# Get column names\n",
        "print(df.columns.tolist())\n",
        "\n",
        "# Check for missing values\n",
        "print(df.isna().sum())\n",
        "\n",
        "# See unique values in a column\n",
        "print(df['column_name'].unique())\n",
        "```\n",
        "\n",
        "**Common Errors and Solutions:**\n",
        "- `KeyError: 'column_name'` → Check column exists with `df.columns`\n",
        "- `AttributeError` → Check variable type with `type(variable)`\n",
        "- Unexpected results → Print intermediate steps to debug\n",
        "\n",
        "---\n",
        "\n",
        "## Question 2: Boolean Indexing and Filtering\n",
        "\n",
        "### Creating Boolean Masks and Filters\n",
        "\n",
        "**Core Concept**: Boolean indexing is fundamental to data analysis - you'll use this constantly in ML preprocessing and exploratory analysis!\n",
        "\n",
        "**🤖 ML Connection:** Boolean masks are how you'll separate training and test data, filter outliers, and select specific subgroups for analysis.\n",
        "\n",
        "Boolean indexing works by creating a \"mask\" of True/False values that corresponds to each row in your DataFrame. Only rows with True values are selected."
      ]
    },
    {
      "cell_type": "code",
      "execution_count": 17,
      "id": "d414f921",
      "metadata": {
        "colab": {
          "base_uri": "https://localhost:8080/"
        },
        "id": "d414f921",
        "outputId": "c04307c2-31a3-48cd-b453-e34b4382c265"
      },
      "outputs": [
        {
          "output_type": "stream",
          "name": "stdout",
          "text": [
            "Mask type: <class 'pandas.core.series.Series'>\n",
            "Mask shape: (1043,)\n",
            "First 10 mask values:\n",
            "0     True\n",
            "1    False\n",
            "2     True\n",
            "3    False\n",
            "4     True\n",
            "5    False\n",
            "6     True\n",
            "7    False\n",
            "8     True\n",
            "9    False\n",
            "Name: sex, dtype: bool\n"
          ]
        }
      ],
      "source": [
        "# Create and understand boolean masks\n",
        "female_mask = titanic_clean[\"sex\"] == \"female\"\n",
        "print(f\"Mask type: {type(female_mask)}\")\n",
        "print(f\"Mask shape: {female_mask.shape}\")\n",
        "print(\"First 10 mask values:\")\n",
        "print(female_mask.head(10))"
      ]
    },
    {
      "cell_type": "markdown",
      "id": "22c44da0",
      "metadata": {
        "id": "22c44da0"
      },
      "source": [
        "### Your Turn: Creating Boolean Masks and Filters\n",
        "\n",
        "Practice creating your own boolean masks and applying them to filter data.\n",
        "\n",
        "**📝 Task Breakdown:**\n",
        "1. Create a boolean mask for elderly passengers (age > 60)\n",
        "2. Create a filtered DataFrame of young passengers (age < 18)\n",
        "\n",
        "**💡 Helpful Examples:**\n",
        "```python\n",
        "# Example: Creating a boolean mask\n",
        "mask = df['column'] > value  # Returns Series of True/False\n",
        "\n",
        "# Example: Using a mask to filter\n",
        "filtered_df = df[df['column'] < value]  # Returns filtered DataFrame\n",
        "```\n",
        "\n",
        "**🎯 Remember:**\n",
        "- A mask is just a Series of True/False values\n",
        "- Apply a mask using `df[mask]` to get filtered rows"
      ]
    },
    {
      "cell_type": "code",
      "execution_count": 18,
      "id": "f210e827",
      "metadata": {
        "colab": {
          "base_uri": "https://localhost:8080/"
        },
        "id": "f210e827",
        "outputId": "a761045e-f269-4520-ddbb-8175115b1ce2"
      },
      "outputs": [
        {
          "output_type": "stream",
          "name": "stdout",
          "text": [
            "Number of elderly passengers (>60): 31\n",
            "Number of young passengers (<18): 154\n"
          ]
        }
      ],
      "source": [
        "# Create elderly_mask: Boolean mask for passengers older than 60\n",
        "# Create young_passengers: DataFrame of passengers under 18 years old\n",
        "\n",
        "# YOUR CODE HERE\n",
        "# raise NotImplementedError()\n",
        "elderly_mask = titanic_clean[\"age\"] > 60\n",
        "young_passengers = titanic_clean[titanic_clean[\"age\"] < 18]\n",
        "\n",
        "print(f\"Number of elderly passengers (>60): {elderly_mask.sum()}\")\n",
        "print(f\"Number of young passengers (<18): {len(young_passengers)}\")"
      ]
    },
    {
      "cell_type": "code",
      "execution_count": 19,
      "id": "1ea7e7c8",
      "metadata": {
        "id": "1ea7e7c8"
      },
      "outputs": [],
      "source": [
        "# Test elderly_mask and young_passengers\n",
        "assert 'elderly_mask' in locals(), \"elderly_mask variable should be defined\"\n",
        "assert 'young_passengers' in locals(), \"young_passengers variable should be defined\"\n",
        "\n",
        "# elderly_mask should be a boolean Series with True where age > 60\n",
        "assert elderly_mask.dtype == bool, \"elderly_mask should be a boolean Series\"\n",
        "assert len(elderly_mask) == len(titanic_clean), \"elderly_mask should have the same length as titanic_clean\"\n",
        "assert elderly_mask.sum() == 31, \"elderly_mask should have 31 True values (elderly passengers)\"\n",
        "\n",
        "# young_passengers should be a DataFrame with only passengers under 18\n",
        "assert isinstance(young_passengers, pd.DataFrame), \"young_passengers should be a DataFrame\"\n",
        "assert (young_passengers[\"age\"] < 18).all(), \"All ages in young_passengers should be < 18\"\n",
        "assert len(young_passengers) == 154, \"young_passengers should have 154 rows\""
      ]
    },
    {
      "cell_type": "markdown",
      "id": "7f1e4fb2",
      "metadata": {
        "id": "7f1e4fb2"
      },
      "source": [
        "## Question 3: Groupby Operations and Analysis\n",
        "\n",
        "### Introduction to Groupby Operations\n",
        "\n",
        "Groupby is one of the most powerful features in pandas, allowing you to split your data into groups and apply calculations to each group. Think of it as answering questions like \"What's the average age BY passenger class?\" or \"What's the survival rate BY gender?\"\n",
        "\n",
        "**🤖 ML Connection:** Groupby operations help you:\n",
        "- Discover patterns that could become features for your ML models\n",
        "- Identify class imbalances (e.g., more survivors in 1st class)\n",
        "- Create aggregate features (e.g., average fare by class)\n",
        "- Validate assumptions about your data\n",
        "\n",
        "Let's see it in action!"
      ]
    },
    {
      "cell_type": "code",
      "execution_count": 20,
      "id": "1a913c3f",
      "metadata": {
        "colab": {
          "base_uri": "https://localhost:8080/"
        },
        "id": "1a913c3f",
        "outputId": "7af9bed1-24e2-4cae-f529-27558155323c"
      },
      "outputs": [
        {
          "output_type": "stream",
          "name": "stdout",
          "text": [
            "Survival rate by passenger class:\n",
            "pclass\n",
            "1    0.634752\n",
            "2    0.440613\n",
            "3    0.262000\n",
            "Name: survived, dtype: float64\n",
            "\n",
            "Note: 1 = 100% survival, 0 = 0% survival for that group\n"
          ]
        }
      ],
      "source": [
        "# Basic groupby: survival rates by passenger class\n",
        "survival_by_class = titanic_clean.groupby(\"pclass\")[\"survived\"].mean()\n",
        "print(\"Survival rate by passenger class:\")\n",
        "print(survival_by_class)\n",
        "print(f\"\\nNote: 1 = 100% survival, 0 = 0% survival for that group\")"
      ]
    },
    {
      "cell_type": "markdown",
      "id": "3a93c7b0",
      "metadata": {
        "id": "3a93c7b0"
      },
      "source": [
        "### 📚 Optional: Advanced Multi-level Grouping\n",
        "\n",
        "**Note:** This section is optional for curious students. Feel free to skip to the next \"Your Turn\" section if you prefer!\n",
        "\n",
        "Notice how the index became the column we grouped by? You can also group by multiple columns, which will return a \"multi-level index\" with multiple columns in it. This is a powerful feature but can be complex for beginners."
      ]
    },
    {
      "cell_type": "code",
      "execution_count": 21,
      "id": "02f97def",
      "metadata": {
        "vscode": {
          "languageId": "ruby"
        },
        "colab": {
          "base_uri": "https://localhost:8080/"
        },
        "id": "02f97def",
        "outputId": "e71562a2-20fb-4dcd-9d22-995d733ee63a"
      },
      "outputs": [
        {
          "output_type": "stream",
          "name": "stdout",
          "text": [
            "Survival rate by passenger class and sex:\n",
            "pclass  sex   \n",
            "1       female    0.961832\n",
            "        male      0.350993\n",
            "2       female    0.893204\n",
            "        male      0.145570\n",
            "3       female    0.473684\n",
            "        male      0.169540\n",
            "Name: survived, dtype: float64\n",
            "\n",
            "This index is multi-level\n",
            "MultiIndex([(1, 'female'),\n",
            "            (1,   'male'),\n",
            "            (2, 'female'),\n",
            "            (2,   'male'),\n",
            "            (3, 'female'),\n",
            "            (3,   'male')],\n",
            "           names=['pclass', 'sex'])\n",
            "\n",
            "Survival rates for 1st class by sex:\n",
            "sex\n",
            "female    0.961832\n",
            "male      0.350993\n",
            "Name: survived, dtype: float64\n",
            "\n",
            "I hate levels! Make it flat!\n",
            "Index([(1, 'female'),   (1, 'male'), (2, 'female'),   (2, 'male'),\n",
            "       (3, 'female'),   (3, 'male')],\n",
            "      dtype='object')\n"
          ]
        }
      ],
      "source": [
        "# Group by both 'pclass' and 'sex', then calculate the mean survival rate for each group\n",
        "survival_by_class_and_sex = titanic_clean.groupby(['pclass', 'sex'])['survived'].mean()\n",
        "print(\"Survival rate by passenger class and sex:\")\n",
        "print(survival_by_class_and_sex)\n",
        "\n",
        "print(\"\\nThis index is multi-level\")\n",
        "print(survival_by_class_and_sex.index)\n",
        "# You can use the .loc accessor to select from the first level of the index, maintaining the second level.\n",
        "print(\"\\nSurvival rates for 1st class by sex:\")\n",
        "print(survival_by_class_and_sex.loc[1])\n",
        "\n",
        "# You can also just flatten the index into tuples\n",
        "print(\"\\nI hate levels! Make it flat!\")\n",
        "print(survival_by_class_and_sex.index.to_flat_index())"
      ]
    },
    {
      "cell_type": "markdown",
      "id": "b7eea951",
      "metadata": {
        "id": "b7eea951"
      },
      "source": [
        "### Your Turn: Groupby Operations\n",
        "\n",
        "Practice creating your own groupby analyses to understand passenger patterns."
      ]
    },
    {
      "cell_type": "code",
      "execution_count": 22,
      "id": "5cd52d86",
      "metadata": {
        "colab": {
          "base_uri": "https://localhost:8080/"
        },
        "id": "5cd52d86",
        "outputId": "e656e540-76e2-4ddf-8809-04dd1dd36a50"
      },
      "outputs": [
        {
          "output_type": "stream",
          "name": "stdout",
          "text": [
            "Average age by passenger class:\n",
            "pclass\n",
            "1    39.083050\n",
            "2    29.506705\n",
            "3    24.745000\n",
            "Name: age, dtype: float64\n",
            "\n",
            "Survival rate by sex:\n",
            "sex\n",
            "female    0.751295\n",
            "male      0.205479\n",
            "Name: survived, dtype: float64\n"
          ]
        }
      ],
      "source": [
        "# Create avg_age_by_class: Series showing average age by passenger class\n",
        "# Create survival_by_sex: Series showing survival rate by sex\n",
        "\n",
        "# YOUR CODE HERE\n",
        "# raise NotImplementedError()\n",
        "avg_age_by_class = titanic_clean.groupby(\"pclass\")[\"age\"].mean()\n",
        "survival_by_sex = titanic_clean.groupby(\"sex\")[\"survived\"].mean()\n",
        "\n",
        "print(\"Average age by passenger class:\")\n",
        "print(avg_age_by_class)\n",
        "print(\"\\nSurvival rate by sex:\")\n",
        "print(survival_by_sex)"
      ]
    },
    {
      "cell_type": "code",
      "execution_count": 23,
      "id": "011f429a",
      "metadata": {
        "id": "011f429a"
      },
      "outputs": [],
      "source": [
        "# Test groupby operations\n",
        "assert 'avg_age_by_class' in locals(), \"avg_age_by_class variable should be defined\"\n",
        "assert 'survival_by_sex' in locals(), \"survival_by_sex variable should be defined\"\n",
        "\n",
        "# Test avg_age_by_class\n",
        "assert isinstance(avg_age_by_class, pd.Series), \"avg_age_by_class should be a pandas Series\"\n",
        "assert len(avg_age_by_class) == 3, \"avg_age_by_class should have 3 values (one for each class)\"\n",
        "assert all(avg_age_by_class.index == [1, 2, 3]), \"avg_age_by_class index should be [1, 2, 3]\"\n",
        "assert avg_age_by_class[1] > avg_age_by_class[3], \"First class should have higher average age than third class\"\n",
        "\n",
        "# Test survival_by_sex\n",
        "assert isinstance(survival_by_sex, pd.Series), \"survival_by_sex should be a pandas Series\"\n",
        "assert len(survival_by_sex) == 2, \"survival_by_sex should have 2 values (male and female)\"\n",
        "assert set(survival_by_sex.index) == {\"male\", \"female\"}, \"survival_by_sex index should contain 'male' and 'female'\"\n",
        "assert 0 <= survival_by_sex[\"male\"] <= 1, \"Male survival rate should be between 0 and 1\"\n",
        "assert 0 <= survival_by_sex[\"female\"] <= 1, \"Female survival rate should be between 0 and 1\"\n",
        "assert survival_by_sex[\"female\"] > survival_by_sex[\"male\"], \"Female survival rate should be higher than male\""
      ]
    },
    {
      "cell_type": "markdown",
      "id": "p8xzetg2axd",
      "metadata": {
        "id": "p8xzetg2axd"
      },
      "source": [
        "### ✅ Checkpoint: What We've Learned So Far\n",
        "\n",
        "Great job! Let's recap what you've mastered:\n",
        "\n",
        "1. **Data Exploration**: Used `.head()`, `.info()`, `.describe()` to understand data\n",
        "2. **Data Cleaning**: Handled missing values with `.dropna()`\n",
        "3. **Boolean Indexing**: Created masks to filter specific rows\n",
        "4. **Groupby Operations**: Calculated statistics by groups\n",
        "\n",
        "**Quick Self-Check:** Can you explain why 1st class passengers had higher survival rates? (Hint: Think about the insights from your groupby analysis!)\n",
        "\n",
        "---"
      ]
    },
    {
      "cell_type": "markdown",
      "id": "1698f641",
      "metadata": {
        "id": "1698f641"
      },
      "source": [
        "## Question 4: Feature Engineering and Transformations\n",
        "\n",
        "### Creating New Columns and Feature Engineering\n",
        "\n",
        "Feature engineering - creating new variables from existing ones - is where machine learning becomes an art! You're creating information that helps ML models understand patterns better.\n",
        "\n",
        "**🤖 ML Connection:** Feature engineering can be the difference between a mediocre model (60% accuracy) and a great one (90% accuracy)! The features you create capture domain knowledge and relationships that raw data might not show clearly.\n",
        "\n",
        "**Common Feature Engineering Techniques:**\n",
        "- **Combining features**: family_size = sibsp + parch + 1\n",
        "- **Binning**: age_group = \"child\", \"adult\", \"elderly\"\n",
        "- **Boolean flags**: is_alone, has_cabin, is_child\n",
        "- **Interactions**: class_gender = combining class and gender\n",
        "\n",
        "Let's create some features that might help predict survival!"
      ]
    },
    {
      "cell_type": "code",
      "execution_count": 24,
      "id": "854623dd",
      "metadata": {
        "colab": {
          "base_uri": "https://localhost:8080/"
        },
        "id": "854623dd",
        "outputId": "a01e75c4-29e2-45bf-dadd-6226c57e48f0"
      },
      "outputs": [
        {
          "output_type": "stream",
          "name": "stdout",
          "text": [
            "Family size distribution:\n",
            "family_size\n",
            "1     587\n",
            "2     206\n",
            "3     144\n",
            "4      39\n",
            "5      17\n",
            "6      25\n",
            "7      16\n",
            "8       8\n",
            "11      1\n",
            "Name: count, dtype: int64\n",
            "\n",
            "Survival rate by family size:\n",
            "family_size\n",
            "1     0.316865\n",
            "2     0.548544\n",
            "3     0.562500\n",
            "4     0.769231\n",
            "5     0.352941\n",
            "6     0.200000\n",
            "7     0.250000\n",
            "8     0.000000\n",
            "11    0.000000\n",
            "Name: survived, dtype: float64\n"
          ]
        }
      ],
      "source": [
        "# Create a new column for family size\n",
        "titanic_clean[\"family_size\"] = titanic_clean[\"sibsp\"] + titanic_clean[\"parch\"] + 1\n",
        "\n",
        "print(\"Family size distribution:\")\n",
        "print(titanic_clean[\"family_size\"].value_counts().sort_index())\n",
        "\n",
        "# Analyze survival by family size\n",
        "family_survival = titanic_clean.groupby(\"family_size\")[\"survived\"].mean()\n",
        "print(\"\\nSurvival rate by family size:\")\n",
        "print(family_survival)"
      ]
    },
    {
      "cell_type": "markdown",
      "id": "9694ff09",
      "metadata": {
        "id": "9694ff09"
      },
      "source": [
        "### Your Turn: Creating Boolean Features\n",
        "\n",
        "Practice creating a boolean feature that might be relevant for survival analysis."
      ]
    },
    {
      "cell_type": "code",
      "execution_count": 25,
      "id": "384abf6d",
      "metadata": {
        "colab": {
          "base_uri": "https://localhost:8080/"
        },
        "id": "384abf6d",
        "outputId": "825b3f84-2733-46f7-d0ae-a9337b2322be"
      },
      "outputs": [
        {
          "output_type": "stream",
          "name": "stdout",
          "text": [
            "Traveling alone distribution:\n",
            "is_alone\n",
            "True     587\n",
            "False    456\n",
            "Name: count, dtype: int64\n",
            "\n",
            "Survival rate by traveling status:\n",
            "is_alone\n",
            "False    0.524123\n",
            "True     0.316865\n",
            "Name: survived, dtype: float64\n"
          ]
        }
      ],
      "source": [
        "# Create is_alone: New boolean column indicating if passenger traveled alone (family_size == 1)\n",
        "\n",
        "# YOUR CODE HERE\n",
        "# raise NotImplementedError()\n",
        "titanic_clean[\"is_alone\"] = titanic_clean[\"family_size\"] == 1\n",
        "\n",
        "print(\"Traveling alone distribution:\")\n",
        "print(titanic_clean[\"is_alone\"].value_counts())\n",
        "\n",
        "print(\"\\nSurvival rate by traveling status:\")\n",
        "print(titanic_clean.groupby(\"is_alone\")[\"survived\"].mean())"
      ]
    },
    {
      "cell_type": "code",
      "execution_count": 26,
      "id": "eec05fb3",
      "metadata": {
        "id": "eec05fb3"
      },
      "outputs": [],
      "source": [
        "# Test is_alone feature\n",
        "assert \"is_alone\" in titanic_clean.columns, \"Column 'is_alone' should be created in titanic_clean\"\n",
        "assert titanic_clean[\"is_alone\"].dtype == bool, \"'is_alone' column should be boolean type\"\n",
        "\n",
        "# Check values\n",
        "alone_count = titanic_clean[\"is_alone\"].sum()\n",
        "assert alone_count == 587, f\"Expected 587 passengers traveling alone, got {alone_count}\"\n",
        "\n",
        "# Check logic\n",
        "assert (titanic_clean[\"is_alone\"] == (titanic_clean[\"family_size\"] == 1)).all(), \"is_alone should be True when family_size == 1\"\n",
        "\n",
        "# Check that it affects survival\n",
        "alone_survival = titanic_clean[titanic_clean[\"is_alone\"]][\"survived\"].mean()\n",
        "not_alone_survival = titanic_clean[~titanic_clean[\"is_alone\"]][\"survived\"].mean()\n",
        "assert alone_survival < not_alone_survival, \"Passengers traveling alone should have lower survival rate\""
      ]
    },
    {
      "cell_type": "markdown",
      "id": "b9d11364",
      "metadata": {
        "id": "b9d11364"
      },
      "source": [
        "## Question 5: Exploratory Data Analysis and Visualization\n",
        "\n",
        "### Distribution Analysis by Survival Status\n",
        "\n",
        "Now for the fun part: Visualization. Visualization is a *hugely important* part of Machine Learning, and is one of the best tools ML engineers have for extracting understanding from raw data. Spending a little extra time making your visualizations look nice and informative can pay off in a big way. With newer libraries like Seaborn, it's also very easy to make nice-looking visualizations with just a few lines of code."
      ]
    },
    {
      "cell_type": "code",
      "execution_count": 27,
      "id": "01a7f432",
      "metadata": {
        "colab": {
          "base_uri": "https://localhost:8080/",
          "height": 545
        },
        "id": "01a7f432",
        "outputId": "7093894b-6e4d-4c65-c992-ad98a024c82c"
      },
      "outputs": [
        {
          "output_type": "display_data",
          "data": {
            "text/plain": [
              "<Figure size 1000x600 with 1 Axes>"
            ],
            "image/png": "[encoded data removed]"
          },
          "metadata": {}
        }
      ],
      "source": [
        "# Bar plot of survival rate by passenger class\n",
        "plt.figure(figsize=(10, 6))\n",
        "survival_plot = sns.barplot(data=titanic_clean, x=\"pclass\", hue=\"pclass\", y=\"survived\",\n",
        "                           palette=\"viridis\", alpha=0.8, errorbar=None)\n",
        "plt.ylabel(\"Survival Rate\")\n",
        "plt.xlabel(\"Passenger Class\")\n",
        "plt.title(\"Survival Rate by Passenger Class\")\n",
        "plt.ylim(0, 1)\n",
        "for i, p in enumerate(survival_plot.patches):\n",
        "    height = p.get_height()\n",
        "    survival_plot.annotate(f\"{height:.2f}\",\n",
        "                          (p.get_x() + p.get_width() / 2, height),\n",
        "                          ha='center', va='bottom', fontsize=12)\n",
        "plt.show()"
      ]
    },
    {
      "cell_type": "markdown",
      "id": "28d6d2b2",
      "metadata": {
        "id": "28d6d2b2"
      },
      "source": [
        "### Your Turn: Creating Group Visualizations\n",
        "\n",
        "Create visualizations to explore different group comparisons in the data. Let's also use the Matplotlib subplots() function to combine multiple plots into a single figure.\n",
        "\n",
        "**📊 Your Tasks:**\n",
        "1. Create a **boxplot** showing age distribution by passenger class\n",
        "2. Create a **barplot** showing survival rate by sex\n",
        "\n",
        "**💡 Visualization Tips:**\n",
        "- Boxplots show distribution: median (line), quartiles (box), outliers (dots)\n",
        "- Barplots show comparisons between categories\n",
        "- Always add titles to make your plots understandable!\n",
        "\n",
        "**🎨 Seaborn Syntax Reminders:**\n",
        "```python\n",
        "# Boxplot example:\n",
        "sns.boxplot(data=df, x=\"category_column\", y=\"numeric_column\", ax=axes[0])\n",
        "\n",
        "# Barplot example:\n",
        "sns.barplot(data=df, x=\"category_column\", y=\"numeric_column\", ax=axes[1])\n",
        "```\n",
        "\n",
        "Don't forget to add titles using `axes[i].set_title(\"Your Title\")`!"
      ]
    },
    {
      "cell_type": "code",
      "execution_count": 31,
      "id": "f6d2c85f",
      "metadata": {
        "colab": {
          "base_uri": "https://localhost:8080/",
          "height": 398
        },
        "id": "f6d2c85f",
        "outputId": "832da3a2-111c-4025-bdce-48768d11775b"
      },
      "outputs": [
        {
          "output_type": "execute_result",
          "data": {
            "text/plain": [
              "Text(0.5, 1.0, 'Survival Rate by Sex')"
            ]
          },
          "metadata": {},
          "execution_count": 31
        },
        {
          "output_type": "display_data",
          "data": {
            "text/plain": [
              "<Figure size 1500x600 with 2 Axes>"
            ],
            "image/png": "[encoded data removed]"
          },
          "metadata": {}
        }
      ],
      "source": [
        "# Under axes[0], Create age_by_class_plot: Box plot showing age distribution by passenger class using seaborn\n",
        "# Under axes[1], Create survival_by_sex_plot: Bar plot showing survival rate by sex\n",
        "# Make sure you save the result of the sns.boxplot() and sns.barplot() calls into those variables for grading.\n",
        "fig, axes = plt.subplots(1, 2, figsize=(15, 6))\n",
        "\n",
        "# Hint: the first (boxplot) subplot example will look like this (with columns in place of \"?\"):\n",
        "# age_by_class_plot = sns.boxplot(data=titanic_clean, x=\"?\" y=\"?\", ax=axes[0])\n",
        "\n",
        "# YOUR CODE HERE\n",
        "# raise NotImplementedError()\n",
        "age_by_class_plot = sns.boxplot(data=titanic_clean, x=\"pclass\", y=\"age\", ax=axes[0])\n",
        "survival_by_sex_plot = sns.barplot(data=titanic_clean, x=\"sex\", y=\"survived\", ax=axes[1])\n",
        "\n",
        "# setting titles\n",
        "age_by_class_plot.set_title(\"Age Distribution by Passenger Class\")\n",
        "survival_by_sex_plot.set_title(\"Survival Rate by Sex\")\n"
      ]
    },
    {
      "cell_type": "code",
      "execution_count": 32,
      "id": "ac1e1da2",
      "metadata": {
        "id": "ac1e1da2"
      },
      "outputs": [],
      "source": [
        "# Test that the plot variables were created and contain the expected plot data\n",
        "assert 'age_by_class_plot' in locals(), \"age_by_class_plot variable should be created\"\n",
        "assert 'survival_by_sex_plot' in locals(), \"survival_by_sex_plot variable should be created\"\n",
        "\n",
        "# Check that the plots are matplotlib/seaborn axes objects\n",
        "import matplotlib.axes._axes\n",
        "assert isinstance(age_by_class_plot, matplotlib.axes._axes.Axes), \"age_by_class_plot should be a matplotlib Axes object\"\n",
        "assert isinstance(survival_by_sex_plot, matplotlib.axes._axes.Axes), \"survival_by_sex_plot should be a matplotlib Axes object\"\n",
        "\n",
        "# Check that plots have titles\n",
        "assert age_by_class_plot.get_title() != \"\", \"age_by_class_plot should have a title\"\n",
        "assert survival_by_sex_plot.get_title() != \"\", \"survival_by_sex_plot should have a title\"\n",
        "\n",
        "# Check x-axis labels exist and are reasonable\n",
        "age_x_labels = [tick.get_text() for tick in age_by_class_plot.get_xticklabels()]\n",
        "survival_x_labels = [tick.get_text() for tick in survival_by_sex_plot.get_xticklabels()]\n",
        "\n",
        "# Basic check that labels exist\n",
        "assert len(age_x_labels) > 0, \"age_by_class_plot should have x-axis labels\"\n",
        "assert len(survival_x_labels) > 0, \"survival_by_sex_plot should have x-axis labels\""
      ]
    },
    {
      "cell_type": "markdown",
      "id": "9d102ebe",
      "metadata": {
        "id": "9d102ebe"
      },
      "source": [
        "## Summary and Reflection\n",
        "\n",
        "Congratulations! You've completed a comprehensive exploration of the Titanic dataset using fundamental pandas operations and data visualization techniques.\n",
        "\n",
        "### 🎉 What You've Accomplished:\n",
        "- ✅ Loaded and explored real-world data\n",
        "- ✅ Cleaned messy data by handling missing values\n",
        "- ✅ Used boolean indexing to filter data\n",
        "- ✅ Discovered patterns with groupby operations\n",
        "- ✅ Created new features through engineering\n",
        "- ✅ Visualized data to communicate insights\n",
        "\n",
        "These are the EXACT skills you'll use in every machine learning project!\n",
        "\n",
        "---\n",
        "\n",
        "## 🌟 Bonus Challenges (Optional)\n",
        "\n",
        "For those who finish early or want extra practice:\n",
        "\n",
        "### Challenge 1: Investigate Fare Patterns\n",
        "```python\n",
        "# Can you find out:\n",
        "# - What was the average fare for each embarkation port?\n",
        "# - Did port of embarkation affect survival rate?\n",
        "```\n",
        "\n",
        "### Challenge 2: Title Extraction\n",
        "```python\n",
        "# Extract titles from passenger names (Mr., Mrs., Miss., etc.)\n",
        "# Hint: Names are formatted as \"Last, Title. First\"\n",
        "# Does title correlate with survival?\n",
        "```\n",
        "\n",
        "### Challenge 3: Age Groups\n",
        "```python\n",
        "# Create age groups: Child (0-12), Teen (13-19), Adult (20-59), Senior (60+)\n",
        "# Which age group had the highest survival rate?\n",
        "```\n",
        "\n",
        "### Challenge 4: Cabin Deck Analysis\n",
        "```python\n",
        "# Extract the deck letter from cabin numbers (e.g., \"C85\" → \"C\")\n",
        "# Did cabin deck affect survival? (Hint: Higher decks = closer to lifeboats)\n",
        "```\n",
        "\n",
        "---\n",
        "\n",
        "**Feedback is heavily encouraged** - please comment on your submission with anything you found confusing or any suggestions for improvement!"
      ]
    }
  ],
  "metadata": {
    "colab": {
      "provenance": [],
      "include_colab_link": true
    },
    "language_info": {
      "name": "python"
    },
    "kernelspec": {
      "name": "python3",
      "display_name": "Python 3"
    }
  },
  "nbformat": 4,
  "nbformat_minor": 5
}